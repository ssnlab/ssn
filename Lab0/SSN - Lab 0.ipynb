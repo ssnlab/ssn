{
 "cells": [
  {
   "cell_type": "markdown",
   "metadata": {
    "id": "8LhLOQqISRoE"
   },
   "source": [
    "### General intro Python, Google Colab, Keras z Tensorflow"
   ]
  },
  {
   "cell_type": "markdown",
   "metadata": {
    "id": "JDtDSEQxt92E"
   },
   "source": [
    "!pip install <package-name>"
   ]
  },
  {
   "cell_type": "code",
   "execution_count": null,
   "metadata": {
    "id": "wzQvBoZ0RjUy"
   },
   "outputs": [],
   "source": [
    "import tensorflow as tf"
   ]
  },
  {
   "cell_type": "markdown",
   "metadata": {
    "id": "WN873-89to9i"
   },
   "source": [
    "Poniższa komórka definiure trzy tensory. Dodaj kod, który wywołuje poniższe operacje na tych tensorach:\n",
    "- kwadrat\n",
    "- pierwiastek\n",
    "- suma wszystkich możliwych i poprawnych par\n",
    "- różnica wszystkich możliwych i poprawnych par\n",
    "- iloczyn wszystkich możliwych i poprawnych par\n",
    "- transpozycja tensora"
   ]
  },
  {
   "cell_type": "code",
   "execution_count": null,
   "metadata": {
    "id": "E9F-X2JeRjaR"
   },
   "outputs": [],
   "source": [
    "a = tf.ones((2, 2))\n",
    "b = tf.constant([[1, 2, 3], [4, 5, 6]], dtype=tf.float32)\n",
    "c = tf.constant([[1, 2], [2, 1]], dtype=tf.float32)"
   ]
  },
  {
   "cell_type": "code",
   "execution_count": null,
   "metadata": {
    "id": "EuqMlkvbto9j"
   },
   "outputs": [],
   "source": [
    "# Tutaj miejsce na twój kod"
   ]
  },
  {
   "cell_type": "markdown",
   "metadata": {
    "id": "Ahl2hzL-to9j"
   },
   "source": [
    "### `tf.GradientTape` w TensorFlow\n",
    "\n",
    "`tf.GradientTape` to interfejs do automatycznego różniczkowania w TensorFlow. Pozwala na śledzenie operacji matematycznych i obliczanie gradientów, co jest głównym zadaniem obliczeniowym podczas uczenia głebokich sieci neuronowych.\n",
    "Zalety:\n",
    "\n",
    "- Automatyczne obliczanie pochodnych\n",
    "- Działa jako menedżer kontekstu\n",
    "- Obsługa wyższych rzędów pochodnych (z pomocą trwałego gradientu, parametr `persistent`)"
   ]
  },
  {
   "cell_type": "markdown",
   "metadata": {
    "id": "SOP-vVVRto9k"
   },
   "source": [
    "Przykład dla obliczenia prostej pochodnej funkcji nieliniowej"
   ]
  },
  {
   "cell_type": "markdown",
   "metadata": {
    "id": "MRYOUGXeDjXg"
   },
   "source": [
    "# Definicja zmiennej\n",
    "x = tf.Variable(2.0)\n",
    "\n",
    "# Użycie GradientTape do nagrywania operacji\n",
    "with tf.GradientTape() as tape:\n",
    "    y = x**2 + 2*x + 3  # Funkcja y = x^2 + 2x + 3\n",
    "\n",
    "# Obliczanie pochodnej dy/dx\n",
    "dy_dx = tape.gradient(y, x)\n",
    "\n",
    "print(\"Gradient funkcji y względem x:\", dy_dx.numpy())  # Oczekiwany wynik:"
   ]
  },
  {
   "cell_type": "markdown",
   "metadata": {
    "id": "8ZEu-0-uto9l"
   },
   "source": [
    "Przykład liczenia gradientu w 'Sieci Neuronowej' z użyciem numpy i błędem średniokwadratowym jako funkcją straty"
   ]
  },
  {
   "cell_type": "code",
   "execution_count": null,
   "metadata": {
    "id": "z9UVSiWoto9m"
   },
   "outputs": [],
   "source": [
    "import numpy as np\n",
    "\n",
    "# Inicjalizacja wag i biasu 'sieci'\n",
    "w = 3.0\n",
    "b = 1.0\n",
    "\n",
    "# Dane treningowe\n",
    "x_train = np.array([1.0, 2.0, 3.0])\n",
    "y_train = np.array([3.0, 5.0, 7.0])  # Docelowe wartości\n",
    "\n",
    "# Obliczanie przewidywań 'sieci'\n",
    "y_pred = w * x_train + b\n",
    "\n",
    "# Obliczanie błędu (straty)\n",
    "loss = np.mean((y_pred - y_train) ** 2)\n",
    "\n",
    "# Ręczne obliczanie gradientów - wartości pochodnej (złożonej) funkcji straty po w/b w punkcie x_train\n",
    "dL_dw = np.mean(2 * (y_pred - y_train) * x_train)\n",
    "dL_db = np.mean(2 * (y_pred - y_train))\n",
    "\n",
    "print(\"Gradient względem w:\", dL_dw)\n",
    "print(\"Gradient względem b:\", dL_db)"
   ]
  },
  {
   "cell_type": "markdown",
   "metadata": {
    "id": "1rCZBPRfto9m"
   },
   "source": [
    "To samo z użyciem Tensorflow"
   ]
  },
  {
   "cell_type": "code",
   "execution_count": null,
   "metadata": {
    "id": "ASL6uCReto9m"
   },
   "outputs": [],
   "source": [
    "# Definicja zmiennych\n",
    "w = tf.Variable(3.0)\n",
    "b = tf.Variable(1.0)\n",
    "\n",
    "# Funkcja straty (MSE)\n",
    "def loss_fn(x, y_true):\n",
    "    y_pred = w * x + b\n",
    "    return tf.reduce_mean(tf.square(y_pred - y_true))\n",
    "\n",
    "# Dane treningowe\n",
    "x_train = tf.constant([1.0, 2.0, 3.0])\n",
    "y_train = tf.constant([3.0, 5.0, 7.0])\n",
    "\n",
    "# Obliczanie gradientów\n",
    "with tf.GradientTape() as tape:\n",
    "    loss = loss_fn(x_train, y_train)\n",
    "\n",
    "grads = tape.gradient(loss, [w, b])\n",
    "print(\"Gradienty względem w:\", grads[0].numpy())\n",
    "print(\"Gradienty względem b:\", grads[1].numpy())\n"
   ]
  },
  {
   "cell_type": "markdown",
   "metadata": {
    "id": "sTCCmvl-to9n"
   },
   "source": [
    "**TASK** Obliczyć gradient dla funkcji:\n",
    "- y = x^2 + 16x + 4566769\n",
    "- (\\$) y = x^3 + x^2 + x"
   ]
  },
  {
   "cell_type": "markdown",
   "metadata": {
    "id": "PpVdMfX-SHst"
   },
   "source": [
    "Przewidywanie autentyczności banknotów z uzyciem Sieci Neuronowych i Keras - klasyfikacja. (https://archive.ics.uci.edu/dataset/267/banknote+authentication)"
   ]
  },
  {
   "cell_type": "code",
   "execution_count": null,
   "metadata": {
    "id": "GGGGzdTdJQvf"
   },
   "outputs": [],
   "source": [
    "import pandas as pd\n",
    "import matplotlib.pyplot as plt\n",
    "from tensorflow.keras.utils import to_categorical"
   ]
  },
  {
   "cell_type": "markdown",
   "metadata": {
    "id": "PjRayPXWto9n"
   },
   "source": [
    "Wczytaj zbiór danych"
   ]
  },
  {
   "cell_type": "code",
   "execution_count": null,
   "metadata": {
    "id": "l0wqLRz2JUtu"
   },
   "outputs": [],
   "source": [
    "df = pd.read_csv('banknote.csv') # tutaj moze bedziecie musieli zmienic sciezke do pliku zalezy gdzie go zapiszeciemy"
   ]
  },
  {
   "cell_type": "markdown",
   "metadata": {
    "id": "Kx39Pe5_to9o"
   },
   "source": [
    "Inwestygacja zbioru danych"
   ]
  },
  {
   "cell_type": "code",
   "execution_count": null,
   "metadata": {
    "id": "xPfyT9mTKdKM"
   },
   "outputs": [],
   "source": [
    "df.head()\n"
   ]
  },
  {
   "cell_type": "code",
   "execution_count": null,
   "metadata": {
    "id": "dUpzGb_aKdM-"
   },
   "outputs": [],
   "source": [
    "df.dtypes\n"
   ]
  },
  {
   "cell_type": "code",
   "execution_count": null,
   "metadata": {
    "id": "HOMFRihFwJ6m"
   },
   "outputs": [],
   "source": [
    "df.hist(bins=10, figsize=(16,10))"
   ]
  },
  {
   "cell_type": "markdown",
   "metadata": {
    "id": "67eNJB4jto9o"
   },
   "source": [
    "Wyznaczenie kolumny do nauki sieci - target"
   ]
  },
  {
   "cell_type": "code",
   "execution_count": null,
   "metadata": {
    "id": "laBMo0zeKdPn"
   },
   "outputs": [],
   "source": [
    "target_col = 'target'\n",
    "target = df[target_col]\n"
   ]
  },
  {
   "cell_type": "markdown",
   "metadata": {
    "id": "fDRF2CsBto9o"
   },
   "source": [
    "Wyznaczenie kolumn do nauki sieci - cechy"
   ]
  },
  {
   "cell_type": "code",
   "execution_count": null,
   "metadata": {
    "id": "3sycwB84KdSF"
   },
   "outputs": [],
   "source": [
    "numeric_features = df.drop(target_col, axis=1)\n",
    "num_features = numeric_features.shape[1]\n",
    "numeric_features.head()\n"
   ]
  },
  {
   "cell_type": "markdown",
   "metadata": {
    "id": "eckMBp-Kto9q"
   },
   "source": [
    "### Budowa sieci"
   ]
  },
  {
   "cell_type": "markdown",
   "metadata": {
    "id": "W--IN8To0QK7"
   },
   "source": [
    "![fnn.webp](data:image/webp;base64,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)\n",
    "\n",
    "(źródło: https://www.softwebsolutions.com/resources/difference-between-cnn-rnn-ann.html)"
   ]
  },
  {
   "cell_type": "markdown",
   "metadata": {
    "id": "KaXTUtRLto9u"
   },
   "source": [
    "Podstawowy model sztucznej sieci neuronowej w Keras"
   ]
  },
  {
   "cell_type": "code",
   "execution_count": null,
   "metadata": {
    "id": "qjsQZ-4ov7fc"
   },
   "outputs": [],
   "source": [
    "from keras.models import Sequential\n",
    "from keras.layers import Dense, Dropout"
   ]
  },
  {
   "cell_type": "code",
   "execution_count": null,
   "metadata": {
    "id": "6ewLhnu8Kdcn"
   },
   "outputs": [],
   "source": [
    "model = Sequential([\n",
    "  Dense(12, input_dim=num_features, kernel_initializer='uniform', activation='relu'),\n",
    "  Dropout(0.2),\n",
    "  Dense(6, kernel_initializer='uniform', activation='relu'),\n",
    "  Dropout(0.1),\n",
    "  Dense(1, kernel_initializer='uniform', activation='sigmoid')\n",
    "]\n",
    ")"
   ]
  },
  {
   "cell_type": "code",
   "execution_count": null,
   "metadata": {
    "id": "-rJjnkVkCtvq"
   },
   "outputs": [],
   "source": [
    "model.compile(loss='binary_crossentropy', optimizer=\"Adamax\", metrics=['accuracy'])\n",
    "model.summary()"
   ]
  },
  {
   "cell_type": "markdown",
   "metadata": {
    "id": "kMhikUpNto9v"
   },
   "source": [
    "Trening modelu"
   ]
  },
  {
   "cell_type": "code",
   "execution_count": null,
   "metadata": {
    "id": "SA7jmI1FzxP4"
   },
   "outputs": [],
   "source": [
    "model.fit(numeric_features, target, epochs=10, batch_size=16, validation_split=0.33)"
   ]
  },
  {
   "cell_type": "code",
   "execution_count": null,
   "metadata": {
    "id": "q22EKydXz36q"
   },
   "outputs": [],
   "source": [
    "# Evaluate the model\n",
    "loss, accuracy = model.evaluate(numeric_features, target)\n",
    "print(f'Test Accuracy: {accuracy:.2f}')\n"
   ]
  },
  {
   "cell_type": "markdown",
   "metadata": {
    "id": "8Gd79oQOto9v"
   },
   "source": [
    "Predykcje"
   ]
  },
  {
   "cell_type": "code",
   "execution_count": null,
   "metadata": {
    "id": "Lvw4hSJhKtIk"
   },
   "outputs": [],
   "source": [
    "model.predict(numeric_features.iloc[:3])\n"
   ]
  },
  {
   "cell_type": "markdown",
   "metadata": {
    "id": "upyp7_jcto9w"
   },
   "source": [
    "Analiza treningu"
   ]
  },
  {
   "cell_type": "code",
   "execution_count": null,
   "metadata": {
    "id": "MnK9wU1IKtFr"
   },
   "outputs": [],
   "source": [
    "tf.keras.utils.plot_model(model, rankdir=\"LR\", show_shapes=True)\n"
   ]
  },
  {
   "cell_type": "markdown",
   "metadata": {
    "id": "rqn7ufrISZzO"
   },
   "source": [
    "**TASK** Wykonać to samo tylko dla innego datasetu `BreastCancer`. Wymagania:\n",
    "- Zastosować **podział na dane treningowe i testowe**\n",
    "- Dodać metryki: **precision i recall** (lub inne odpowiednie dla danych multiclass)\n",
    "- (\\$) zamiast danych `BreastCancer` wybierz swoje dane do klasyfikacji z UCI ML, PMLB, Kaggle lub samemu wygenerować dane (\\$\\$)\n",
    "- **TIP** Jeżeli dane mają więcej niż 2 klasy to należy wykonać enkodowanie targetu (etykiety) i odpowiednio zmienić warstwę wyjściową sieci\n",
    "- (\\$) Spróbować zmodyfikować  architekture sieci i proces uczenia żeby poprawić wstępne wyniki:\n",
    "  - train test split\n",
    "  - BatchNormalization Layer\n",
    "  - Optimizer fine tuning\n",
    "  - Droput layers\n",
    "  - Number of epochs"
   ]
  },
  {
   "cell_type": "code",
   "execution_count": null,
   "metadata": {
    "id": "josUuliTto9x"
   },
   "outputs": [],
   "source": [
    "!pip install scikit-learn"
   ]
  },
  {
   "cell_type": "code",
   "execution_count": null,
   "metadata": {
    "id": "u7bNVC_jto9x"
   },
   "outputs": [],
   "source": [
    "from sklearn.datasets import load_breast_cancer"
   ]
  },
  {
   "cell_type": "code",
   "execution_count": null,
   "metadata": {
    "id": "itK5hgcwto9x"
   },
   "outputs": [],
   "source": [
    "x, y = load_breast_cancer(return_X_y=True, as_frame=True)"
   ]
  },
  {
   "cell_type": "code",
   "execution_count": null,
   "metadata": {
    "id": "Nt46Wqr7to9x"
   },
   "outputs": [],
   "source": [
    "# miejsce na wasz kod"
   ]
  },
  {
   "cell_type": "code",
   "execution_count": null,
   "metadata": {
    "id": "5W2SWxlHto9y"
   },
   "outputs": [],
   "source": []
  }
 ],
 "metadata": {
  "colab": {
   "provenance": [
    {
     "file_id": "11M_cEUTVl9vZ5egU8vPjyE_cHntqOinh",
     "timestamp": 1741533494270
    }
   ],
   "toc_visible": true
  },
  "kernelspec": {
   "display_name": "Python 3 (ipykernel)",
   "language": "python",
   "name": "python3"
  },
  "language_info": {
   "codemirror_mode": {
    "name": "ipython",
    "version": 3
   },
   "file_extension": ".py",
   "mimetype": "text/x-python",
   "name": "python",
   "nbconvert_exporter": "python",
   "pygments_lexer": "ipython3",
   "version": "3.11.4"
  }
 },
 "nbformat": 4,
 "nbformat_minor": 1
}
